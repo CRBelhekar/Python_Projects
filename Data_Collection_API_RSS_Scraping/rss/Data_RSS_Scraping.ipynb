{
 "cells": [
  {
   "cell_type": "markdown",
   "metadata": {},
   "source": [
    "## RSS"
   ]
  },
  {
   "cell_type": "markdown",
   "metadata": {},
   "source": [
    "You can find RSS feeds on many different sites. Most blogs and news web sites have them, for example [Tech Crunch](https://techcrunch.com/rssfeeds/), [New York Times](http://www.nytimes.com/services/xml/rss/index.html), [Vox](https://www.vox.com/rss/index.xml), [Naval's Podcast](https://nav.al/podcast/feed) and [NPR](https://help.npr.org/customer/portal/articles/2094175-where-can-i-find-npr-rss-feeds-). Even iTunes delivers podcasts by [aggregating RSS feeds](http://itunespartner.apple.com/en/podcasts/faq) from content creators. \n",
    "\n",
    "Today we are going to take a look at the [Buzzfeed Book Article Feed](https://www.buzzfeed.com/books). We will use the Python package [FeedParser](https://pypi.python.org/pypi/feedparser) to work with the RSS feed. FeedParser will allow us to deconstruct the data in the feed."
   ]
  },
  {
   "cell_type": "code",
   "execution_count": 1,
   "metadata": {},
   "outputs": [],
   "source": [
    "import feedparser\n",
    "import pandas as pd"
   ]
  },
  {
   "cell_type": "code",
   "execution_count": 2,
   "metadata": {},
   "outputs": [],
   "source": [
    "RSS_URL = \"https://www.buzzfeed.com/books.xml\""
   ]
  },
  {
   "cell_type": "code",
   "execution_count": 3,
   "metadata": {},
   "outputs": [],
   "source": [
    "feed = feedparser.parse(RSS_URL)"
   ]
  },
  {
   "cell_type": "markdown",
   "metadata": {},
   "source": [
    "\"parse\" is the primary function in FeedParser. The returned object is dictionary like and can be handled similarly to a dictionary. For example, we can look at the keys it contains and what type of items those keys are."
   ]
  },
  {
   "cell_type": "code",
   "execution_count": 4,
   "metadata": {},
   "outputs": [
    {
     "data": {
      "text/plain": [
       "feedparser.FeedParserDict"
      ]
     },
     "execution_count": 4,
     "metadata": {},
     "output_type": "execute_result"
    }
   ],
   "source": [
    "type(feed)"
   ]
  },
  {
   "cell_type": "code",
   "execution_count": 5,
   "metadata": {},
   "outputs": [
    {
     "data": {
      "text/plain": [
       "dict_keys(['feed', 'entries', 'bozo', 'headers', 'etag', 'href', 'status', 'encoding', 'version', 'namespaces'])"
      ]
     },
     "execution_count": 5,
     "metadata": {},
     "output_type": "execute_result"
    }
   ],
   "source": [
    "feed.keys()"
   ]
  },
  {
   "cell_type": "code",
   "execution_count": 6,
   "metadata": {
    "scrolled": false
   },
   "outputs": [
    {
     "data": {
      "text/plain": [
       "feedparser.FeedParserDict"
      ]
     },
     "execution_count": 6,
     "metadata": {},
     "output_type": "execute_result"
    }
   ],
   "source": [
    "type(feed.feed)"
   ]
  },
  {
   "cell_type": "markdown",
   "metadata": {},
   "source": [
    "We will look at some, but not all, of the data stored in the feed. For more information about the keys, see the [documentation](http://pythonhosted.org/feedparser/).\n",
    "\n",
    "We can use the version to check which type of feed we have."
   ]
  },
  {
   "cell_type": "code",
   "execution_count": 7,
   "metadata": {},
   "outputs": [
    {
     "data": {
      "text/plain": [
       "'rss20'"
      ]
     },
     "execution_count": 7,
     "metadata": {},
     "output_type": "execute_result"
    }
   ],
   "source": [
    "feed.version"
   ]
  },
  {
   "cell_type": "code",
   "execution_count": 8,
   "metadata": {},
   "outputs": [
    {
     "data": {
      "text/plain": [
       "int"
      ]
     },
     "execution_count": 8,
     "metadata": {},
     "output_type": "execute_result"
    }
   ],
   "source": [
    "type(feed.bozo)"
   ]
  },
  {
   "cell_type": "markdown",
   "metadata": {},
   "source": [
    "Bozo is an interesing key to know about if you are going to parse a RSS feed in code. FeedParser sets the bozo bit when it detects a feed is not well-formed. (FeedParser will still parse the feed if it is not well-formed.) You can use the bozo bit to create error handling or just print a simple warning."
   ]
  },
  {
   "cell_type": "code",
   "execution_count": 9,
   "metadata": {},
   "outputs": [
    {
     "name": "stdout",
     "output_type": "stream",
     "text": [
      "Well done, you have a well-formed feed!\n"
     ]
    }
   ],
   "source": [
    "if feed.bozo == 0:\n",
    "    print(\"Well done, you have a well-formed feed!\")\n",
    "else:\n",
    "    print(\"Potential trouble ahead.\")"
   ]
  },
  {
   "cell_type": "markdown",
   "metadata": {},
   "source": [
    "We can look at some of the feed elements through the feed attribute."
   ]
  },
  {
   "cell_type": "code",
   "execution_count": 10,
   "metadata": {},
   "outputs": [
    {
     "data": {
      "text/plain": [
       "dict_keys(['title', 'title_detail', 'links', 'link', 'language', 'rights', 'rights_detail', 'subtitle', 'subtitle_detail', 'updated', 'updated_parsed', 'authors', 'author', 'author_detail', 'publisher', 'publisher_detail', 'image'])"
      ]
     },
     "execution_count": 10,
     "metadata": {},
     "output_type": "execute_result"
    }
   ],
   "source": [
    "feed.feed.keys()"
   ]
  },
  {
   "cell_type": "code",
   "execution_count": 11,
   "metadata": {},
   "outputs": [
    {
     "name": "stdout",
     "output_type": "stream",
     "text": [
      "BuzzFeed - Books\n",
      "{'type': 'text/plain', 'language': None, 'base': 'https://www.buzzfeed.com/books.xml', 'value': 'BuzzFeed - Books'}\n",
      "[{'rel': 'alternate', 'type': 'text/html', 'href': 'https://www.buzzfeed.com/books'}, {'href': 'https://www.buzzfeed.com/books.xml', 'rel': 'self', 'type': 'application/atom+xml'}]\n",
      "en\n",
      "Thu, 14 May 2020 09:44:33 +0000\n"
     ]
    }
   ],
   "source": [
    "print(feed.feed.title)\n",
    "print(feed.feed.title_detail)\n",
    "print(feed.feed.links)\n",
    "print(feed.feed.language)\n",
    "print(feed.feed.updated)"
   ]
  },
  {
   "cell_type": "markdown",
   "metadata": {},
   "source": [
    "The [reference section](http://pythonhosted.org/feedparser/reference.html) of the feedparser documenation shows us all the inforamtion thatcan be in a feed. [Annotated Examples](http://pythonhosted.org/feedparser/annotated-examples.html) are also provided. But note the caution provided-\n",
    "\n",
    "\"Caution: Even though many of these elements are required according to the specification, real-world feeds may be missing any element. If an element is not present in the feed, it will not be present in the parsed results. You should not rely on any particular element being present.\"\n",
    "\n",
    "For example, our feed is RSS 2.0. One of the elements available in this version is the published date."
   ]
  },
  {
   "cell_type": "markdown",
   "metadata": {},
   "source": [
    "The data we are looking for are contained in the entries. Given the feed we are working with, how many entries do you think we have?"
   ]
  },
  {
   "cell_type": "code",
   "execution_count": 12,
   "metadata": {},
   "outputs": [
    {
     "data": {
      "text/plain": [
       "100"
      ]
     },
     "execution_count": 12,
     "metadata": {},
     "output_type": "execute_result"
    }
   ],
   "source": [
    "len(feed.entries)"
   ]
  },
  {
   "cell_type": "markdown",
   "metadata": {
    "scrolled": false
   },
   "source": [
    "The items in entries are stored as a list."
   ]
  },
  {
   "cell_type": "code",
   "execution_count": 13,
   "metadata": {},
   "outputs": [
    {
     "data": {
      "text/plain": [
       "list"
      ]
     },
     "execution_count": 13,
     "metadata": {},
     "output_type": "execute_result"
    }
   ],
   "source": [
    "type(feed.entries)"
   ]
  },
  {
   "cell_type": "code",
   "execution_count": 14,
   "metadata": {},
   "outputs": [
    {
     "data": {
      "text/plain": [
       "'Everyone Is Either Lydia, Cassie Or Emily From \"Finding Cassie Crazy\" — Which One Are You?'"
      ]
     },
     "execution_count": 14,
     "metadata": {},
     "output_type": "execute_result"
    }
   ],
   "source": [
    "feed.entries[0].title"
   ]
  },
  {
   "cell_type": "code",
   "execution_count": 15,
   "metadata": {},
   "outputs": [
    {
     "name": "stdout",
     "output_type": "stream",
     "text": [
      "0 Everyone Is Either Lydia, Cassie Or Emily From \"Finding Cassie Crazy\" — Which One Are You?\n",
      "1 Someone Pointed Out How Many Times Edward Cullen Chuckled In The First Twilight Book And It's A Lot\n",
      "2 Only Someone Who Has Read \"Harry Potter And The Prisoner Of Azkaban\" At Least 3 Times Can Pass This Quiz\n",
      "3 15 Things All Shakespeare Characters Knoweth To Be True\n",
      "4 Did Shakespeare Create These Common Phrases — True Or False?\n",
      "5 17 Historical Fiction Books That Will Immerse You In A Different Era\n",
      "6 Author Emily Giffin Shared A Negative Rant About Meghan Markle And Now She's Being Called Out For Racism And Mom-Shaming\n",
      "7 Only 17% Of People Can Get An \"A\" On This Eighth-Grade Vocab Quiz\n",
      "8 Let's See If You Would Choose To Save The Same \"Harry Potter\" Characters As Everyone Else\n",
      "9 20 Unpopular Opinion Polls About \"Harry Potter\" That Might Get You Heated\n",
      "10 How Do Your YA Book Vs. Movie Opinions Stack Up Against Everyone Else's?\n",
      "11 32 Book Adaptations You Can Stream On Netflix Right Now\n",
      "12 19 Books So Questionable That People Started Them But Never Finished Them\n",
      "13 News O'Clock: “Chosen Ones” Is Your Book Club Jam & Justice For Marni Nixon\n",
      "14 These Are The Most Difficult \"Harry Potter\" Questions From The First Book — Do You Know Them All?\n",
      "15 You Can Only Pick One Book For Every Category And, Sorry, But It's Kind Of Impossible\n",
      "16 17 \"Twilight\" Jokes That Will Make You Laugh And Cringe\n",
      "17 Your Taste In Scholastic Books Will Reveal If You're In Your Early, Mid, Or Late Twenties\n",
      "18 Waiting For A Sense Of Time In The Coronavirus Pandemic\n",
      "19 Daniel Radcliffe Just Narrated The First Chapter Of \"Harry Potter And The Sorcerer's Stone\" And It's Such A Gift\n",
      "20 33 Times The Internet Nailed How Hilarious Classic Literature Really Is\n",
      "21 I Found \"Normal People\" Author Sally Rooney's Playlists For Connell And Marianne, And The Songs Are Taking Me Back To My Teenage Years\n",
      "22 17 Hilarious Tweets About Stephenie Meyer Releasing \"Midnight Sun\"\n",
      "23 Real Twihards Know That Stephenie Meyer Uploaded The First 250 Pages Of \"Midnight Sun\" To Her Site Ages Ago\n",
      "24 Stephenie Meyer Is Finally Releasing \"Midnight Sun,\" So It Looks Like Vampires Are Back, Baby\n",
      "25 Most People Can't Guess 9/12 Of These \"Harry Potter\" Characters With Their Hair And Clothes Erased\n",
      "26 30 LGBTQ YA Books You'll Absolutely Want To Pick Up This Spring\n",
      "27 The Author Of \"Twilight\" Has A Countdown On Her Website, And No One Knows What It's For\n",
      "28 32 Short Story Collections That Will Cure Even The Worst Reading Slump\n",
      "29 15 Tumblr Posts That Drag The Heck Out Of Albus Dumbledore's Existence\n",
      "30 Hulu’s “Normal People” Evokes How Intense First Love Can Be\n",
      "31 Only Real Potterheads Can Get 10/13 On This Quiz, Where Every Answer Starts With The Final Letter Of The Previous Answer\n",
      "32 10 Times Hollywood Ruined Our Favourite Book Characters And 11 Times They Absolutely Nailed It\n",
      "33 Only Someone Who Has Read \"Harry Potter And The Chamber Of Secrets\" At Least 3 Times Can Pass This Quiz\n",
      "34 24 Books That Are So Funny, You'll Look Like The Crying-Laughing Emoji While You're Reading\n",
      "35 35 Picture Books That'll Take Your Family On Adventures When You're Stuck At Home\n",
      "36 If Your Mumma Is A Reader, She'll Love These 13 Aussie Novels For Mother's Day\n",
      "37 15 Great New Books, Recommended By Some Of Our Favorite Authors\n",
      "38 This Is The Worst \"Twilight\" Quiz You'll Ever Take In Your Life — I Promise\n",
      "39 Build A John Green Novel And We'll Tell You What Your Friends Think Of You\n",
      "40 Only ACTUAL \"Harry Potter\" Fans Will Know If These Are Movie Or Book Quotes\n",
      "41 Everyone Is A Combo Of Two \"Harry Potter\" Characters — One Popular And One Underrated. Here's Yours.\n",
      "42 25 \"Little Fires Everywhere\" Behind-The-Scenes Facts You Probably Didn't Know, But 100% Should\n",
      "43 If The \"Little Fires Everywhere\" Finale Made You Laugh, Cry, Or Scream, Then These Tweets Are For You\n",
      "44 10 Major Differences Between The \"Little Fires Everywhere\" Finale And The Book\n",
      "45 We Know What Your Favorite \"Harry Potter\" Book Is Based On The House You Design\n",
      "46 Veronica Roth's \"Chosen Ones\" Is The BuzzFeed Book Club May Pick. Here's The First Chapter.\n",
      "47 19 Differences Between The \"Gossip Girl\" Books And Show That Have Me Gobsmacked\n",
      "48 21 Great Books From Small Presses To Read Now\n",
      "49 Only Someone Who Has Read \"Harry Potter And The Sorcerer's Stone\" At Least 3 Times Can Pass This Quiz\n",
      "50 Only A True \"Harry Potter\" Fan Can Match The Hogwarts Professors To The Subjects They Teach\n",
      "51 Design Your Cupboard Under The Stairs To Find Out Which Hogwarts House You'd Be In\n",
      "52 17 Sci-Fi/Fantasy Books To Lose Yourself In During Self-Quarantine\n",
      "53 Tell Us A Movie That Either Destroyed Or Nailed Your Favourite Book Character\n",
      "54 23 Hilarious Posts That Will Make All The Writers Out There Feel Seen\n",
      "55 36 Great Books You Might Not Know About\n",
      "56 Sparknotes Makes Memes About Literature, And You Need To See Them\n",
      "57 Which New Book Should You Read?\n",
      "58 Can You Make It Through This Sudden Death \"Harry Potter\" Potions Class Simulation?\n",
      "59 Can You Pass This AP \"Hunger Games\" Test?\n",
      "60 25 Childhood Book Covers That Will Make You Say \"OMG, I Remember That One!\"\n",
      "61 Only People Who've Seen The \"Harry Potter\" Movies 10+ Times Can Get 15/15 On This Random Scene Trivia Quiz\n",
      "62 Four Books We Couldn't Put Down Last Month\n",
      "63 Your Disney Opinions Will Reveal Which Young Adult Novel You Should Binge Read\n",
      "64 If You Can Name All Of The Hogwarts Professors, You're A True Potterhead\n",
      "65 23 Movie And TV Adaptations That Left Out Beloved Book Details\n",
      "66 Can You Pass This Difficult Sudden Death Defense Against The Dark Arts Simulation?\n",
      "67 There Are 179 Named Slytherins In \"Harry Potter,\" Can You Even Name 10?\n",
      "68 Here Are Some Indie Bookstores That Are Seeking Donations\n",
      "69 15 Bonkers Passages Male Authors Wrote About Female Characters That Actually Got Published\n",
      "70 Only The Biggest Harry Potter Nerds Can Remember The Names Of These Ravenclaws\n",
      "71 Everyone's Personality Matches A Character From \"The Perks Of Being A Wallflower\" — What's Yours?\n",
      "72 You'll Only Pass This Quiz If You've Watched \"Matilda\" At Least 3 Times\n",
      "73 19 Unpopular Opinions About Young Adult Novels That'll Make You Look At Them Differently Than Before\n",
      "74 I Bet You Can't Sort 8/11 Of These \"Harry Potter\" Characters Into Their Correct Hogwarts House\n",
      "75 17 Mystery Books You Won't Be Able To Put Down\n",
      "76 An Average \"Harry Potter\" Fan Can't Tell The Movies Apart — Can You?\n",
      "77 Only Someone Who’s Read \"Harry Potter And The Goblet Of Fire\" At Least 3 Times Can Ace This Quiz\n",
      "78 This Aesthetic Quiz Will Reveal Which Famous Literary Siblings You Are\n",
      "79 These Comics About Science Will Give You A Much-Needed Laugh\n",
      "80 Everyone's Personality Matches A Jane Austen Character – Which Are You?\n",
      "81 Only \"Harry Potter\" Superfans Will Know The Names Of The Members Of These Wizarding Families\n",
      "82 If You Remember The Names Of All Five \"Divergent\" Factions, You're An Erudite\n",
      "83 Even Casual \"Harry Potter\" Fans Will Be Able To Match These 12 Quotes To The Correct Character\n",
      "84 Gryffindor Has 212 Known Members In \"Harry Potter\", Can You Name 10 Of Them?\n",
      "85 Only Top Tier \"Harry Potter\" Fans Can Actually Name All 7 Of Lord Voldemort's Horcruxes\n",
      "86 If You're Really A Ravenclaw, You Should Be Able To Check Off Way More Than 27 Things On This List\n",
      "87 15 Photos Of Book Nook Shelf Inserts That Might Inspire Your Next DIY Craft Project\n",
      "88 The \"Clueless\" Characters Side By Side With Their \"Emma\" Characters\n",
      "89 You'll Only Pass This Book Cover Test If You've Read The \"Harry Potter\" Series At Least 3 Times\n",
      "90 We Know Which Weasley Brother Is Your Soulmate From These 7 Questions\n",
      "91 I Was Addicted To Adderall For A Decade. What Did It Give Me?\n",
      "92 27 Immersive Audiobooks That'll Take Your Mind Off Things For A While\n",
      "93 9 Independent Bookstores In Brisbane That Are Now Delivering To Your Door\n",
      "94 Here Are 20 Of The Most Iconic Book Covers Of All Time — I'll Be Impressed If You Can Identify Just 5\n",
      "95 There Are Over 250 \"Harry Potter\" Characters And I'll Be Impressed If You Can Name 30\n",
      "96 15 Amazing Books You'll Want To Binge Read On Kindle Unlimited\n",
      "97 10 Authors And Illustrators Who Are Keeping Kids Busy (And Parents Sane)\n",
      "98 What Line In Literature Makes You Feel Hopeful?\n",
      "99 12 Young Adult Novels To Read On Trans Day Of Visibility\n"
     ]
    }
   ],
   "source": [
    "i = 0\n",
    "for entry in feed.entries:\n",
    "    print(i, feed.entries[i].title)\n",
    "    i += 1"
   ]
  },
  {
   "cell_type": "markdown",
   "metadata": {},
   "source": [
    "Given that information, what is something we can do with this data? Why not make it a dataframe?"
   ]
  },
  {
   "cell_type": "code",
   "execution_count": 16,
   "metadata": {},
   "outputs": [],
   "source": [
    "df = pd.DataFrame(feed.entries)"
   ]
  },
  {
   "cell_type": "code",
   "execution_count": 17,
   "metadata": {
    "scrolled": false
   },
   "outputs": [
    {
     "data": {
      "text/html": [
       "<div>\n",
       "<style scoped>\n",
       "    .dataframe tbody tr th:only-of-type {\n",
       "        vertical-align: middle;\n",
       "    }\n",
       "\n",
       "    .dataframe tbody tr th {\n",
       "        vertical-align: top;\n",
       "    }\n",
       "\n",
       "    .dataframe thead th {\n",
       "        text-align: right;\n",
       "    }\n",
       "</style>\n",
       "<table border=\"1\" class=\"dataframe\">\n",
       "  <thead>\n",
       "    <tr style=\"text-align: right;\">\n",
       "      <th></th>\n",
       "      <th>guidislink</th>\n",
       "      <th>href</th>\n",
       "      <th>id</th>\n",
       "      <th>link</th>\n",
       "      <th>links</th>\n",
       "      <th>media_thumbnail</th>\n",
       "      <th>published</th>\n",
       "      <th>published_parsed</th>\n",
       "      <th>summary</th>\n",
       "      <th>summary_detail</th>\n",
       "      <th>title</th>\n",
       "      <th>title_detail</th>\n",
       "    </tr>\n",
       "  </thead>\n",
       "  <tbody>\n",
       "    <tr>\n",
       "      <th>0</th>\n",
       "      <td>False</td>\n",
       "      <td></td>\n",
       "      <td>https://www.buzzfeed.com/clareaston/are-you-ly...</td>\n",
       "      <td>https://www.buzzfeed.com/clareaston/are-you-ly...</td>\n",
       "      <td>[{'rel': 'alternate', 'type': 'text/html', 'hr...</td>\n",
       "      <td>[{'url': 'https://img.buzzfeed.com/buzzfeed-st...</td>\n",
       "      <td>Thu, 14 May 2020 01:29:39 -0400</td>\n",
       "      <td>(2020, 5, 14, 5, 29, 39, 3, 135, 0)</td>\n",
       "      <td>&lt;h1&gt;The Brookfield/Ashbury war is starting up ...</td>\n",
       "      <td>{'type': 'text/html', 'language': None, 'base'...</td>\n",
       "      <td>Everyone Is Either Lydia, Cassie Or Emily From...</td>\n",
       "      <td>{'type': 'text/plain', 'language': None, 'base...</td>\n",
       "    </tr>\n",
       "    <tr>\n",
       "      <th>1</th>\n",
       "      <td>False</td>\n",
       "      <td></td>\n",
       "      <td>https://www.buzzfeed.com/farrahpenn/someone-on...</td>\n",
       "      <td>https://www.buzzfeed.com/farrahpenn/someone-on...</td>\n",
       "      <td>[{'rel': 'alternate', 'type': 'text/html', 'hr...</td>\n",
       "      <td>[{'url': 'https://img.buzzfeed.com/buzzfeed-st...</td>\n",
       "      <td>Thu, 14 May 2020 00:25:33 -0400</td>\n",
       "      <td>(2020, 5, 14, 4, 25, 33, 3, 135, 0)</td>\n",
       "      <td>&lt;h1&gt;\"He chucked blackly.\"&lt;/h1&gt;&lt;p&gt;&lt;img src=\"htt...</td>\n",
       "      <td>{'type': 'text/html', 'language': None, 'base'...</td>\n",
       "      <td>Someone Pointed Out How Many Times Edward Cull...</td>\n",
       "      <td>{'type': 'text/plain', 'language': None, 'base...</td>\n",
       "    </tr>\n",
       "    <tr>\n",
       "      <th>2</th>\n",
       "      <td>False</td>\n",
       "      <td></td>\n",
       "      <td>https://www.buzzfeed.com/noradominick/harry-po...</td>\n",
       "      <td>https://www.buzzfeed.com/noradominick/harry-po...</td>\n",
       "      <td>[{'rel': 'alternate', 'type': 'text/html', 'hr...</td>\n",
       "      <td>[{'url': 'https://img.buzzfeed.com/buzzfeed-st...</td>\n",
       "      <td>Thu, 14 May 2020 01:25:27 -0400</td>\n",
       "      <td>(2020, 5, 14, 5, 25, 27, 3, 135, 0)</td>\n",
       "      <td>&lt;h1&gt;\"I solemnly swear that I am up to no good....</td>\n",
       "      <td>{'type': 'text/html', 'language': None, 'base'...</td>\n",
       "      <td>Only Someone Who Has Read \"Harry Potter And Th...</td>\n",
       "      <td>{'type': 'text/plain', 'language': None, 'base...</td>\n",
       "    </tr>\n",
       "    <tr>\n",
       "      <th>3</th>\n",
       "      <td>False</td>\n",
       "      <td></td>\n",
       "      <td>https://www.buzzfeed.com/hanifahrahman/do-u-bi...</td>\n",
       "      <td>https://www.buzzfeed.com/hanifahrahman/do-u-bi...</td>\n",
       "      <td>[{'rel': 'alternate', 'type': 'text/html', 'hr...</td>\n",
       "      <td>[{'url': 'https://img.buzzfeed.com/buzzfeed-st...</td>\n",
       "      <td>Tue, 12 May 2020 12:34:41 -0400</td>\n",
       "      <td>(2020, 5, 12, 16, 34, 41, 1, 133, 0)</td>\n",
       "      <td>&lt;h1&gt;If thou knows, thou knows.&lt;/h1&gt;&lt;p&gt;&lt;img src...</td>\n",
       "      <td>{'type': 'text/html', 'language': None, 'base'...</td>\n",
       "      <td>15 Things All Shakespeare Characters Knoweth T...</td>\n",
       "      <td>{'type': 'text/plain', 'language': None, 'base...</td>\n",
       "    </tr>\n",
       "    <tr>\n",
       "      <th>4</th>\n",
       "      <td>False</td>\n",
       "      <td></td>\n",
       "      <td>https://www.buzzfeed.com/crystalro/shakespeare...</td>\n",
       "      <td>https://www.buzzfeed.com/crystalro/shakespeare...</td>\n",
       "      <td>[{'rel': 'alternate', 'type': 'text/html', 'hr...</td>\n",
       "      <td>[{'url': 'https://img.buzzfeed.com/buzzfeed-st...</td>\n",
       "      <td>Wed, 13 May 2020 00:38:11 -0400</td>\n",
       "      <td>(2020, 5, 13, 4, 38, 11, 2, 134, 0)</td>\n",
       "      <td>&lt;h1&gt;To guess or not to guess, that is the ques...</td>\n",
       "      <td>{'type': 'text/html', 'language': None, 'base'...</td>\n",
       "      <td>Did Shakespeare Create These Common Phrases — ...</td>\n",
       "      <td>{'type': 'text/plain', 'language': None, 'base...</td>\n",
       "    </tr>\n",
       "  </tbody>\n",
       "</table>\n",
       "</div>"
      ],
      "text/plain": [
       "   guidislink href                                                 id  \\\n",
       "0       False       https://www.buzzfeed.com/clareaston/are-you-ly...   \n",
       "1       False       https://www.buzzfeed.com/farrahpenn/someone-on...   \n",
       "2       False       https://www.buzzfeed.com/noradominick/harry-po...   \n",
       "3       False       https://www.buzzfeed.com/hanifahrahman/do-u-bi...   \n",
       "4       False       https://www.buzzfeed.com/crystalro/shakespeare...   \n",
       "\n",
       "                                                link  \\\n",
       "0  https://www.buzzfeed.com/clareaston/are-you-ly...   \n",
       "1  https://www.buzzfeed.com/farrahpenn/someone-on...   \n",
       "2  https://www.buzzfeed.com/noradominick/harry-po...   \n",
       "3  https://www.buzzfeed.com/hanifahrahman/do-u-bi...   \n",
       "4  https://www.buzzfeed.com/crystalro/shakespeare...   \n",
       "\n",
       "                                               links  \\\n",
       "0  [{'rel': 'alternate', 'type': 'text/html', 'hr...   \n",
       "1  [{'rel': 'alternate', 'type': 'text/html', 'hr...   \n",
       "2  [{'rel': 'alternate', 'type': 'text/html', 'hr...   \n",
       "3  [{'rel': 'alternate', 'type': 'text/html', 'hr...   \n",
       "4  [{'rel': 'alternate', 'type': 'text/html', 'hr...   \n",
       "\n",
       "                                     media_thumbnail  \\\n",
       "0  [{'url': 'https://img.buzzfeed.com/buzzfeed-st...   \n",
       "1  [{'url': 'https://img.buzzfeed.com/buzzfeed-st...   \n",
       "2  [{'url': 'https://img.buzzfeed.com/buzzfeed-st...   \n",
       "3  [{'url': 'https://img.buzzfeed.com/buzzfeed-st...   \n",
       "4  [{'url': 'https://img.buzzfeed.com/buzzfeed-st...   \n",
       "\n",
       "                         published                      published_parsed  \\\n",
       "0  Thu, 14 May 2020 01:29:39 -0400   (2020, 5, 14, 5, 29, 39, 3, 135, 0)   \n",
       "1  Thu, 14 May 2020 00:25:33 -0400   (2020, 5, 14, 4, 25, 33, 3, 135, 0)   \n",
       "2  Thu, 14 May 2020 01:25:27 -0400   (2020, 5, 14, 5, 25, 27, 3, 135, 0)   \n",
       "3  Tue, 12 May 2020 12:34:41 -0400  (2020, 5, 12, 16, 34, 41, 1, 133, 0)   \n",
       "4  Wed, 13 May 2020 00:38:11 -0400   (2020, 5, 13, 4, 38, 11, 2, 134, 0)   \n",
       "\n",
       "                                             summary  \\\n",
       "0  <h1>The Brookfield/Ashbury war is starting up ...   \n",
       "1  <h1>\"He chucked blackly.\"</h1><p><img src=\"htt...   \n",
       "2  <h1>\"I solemnly swear that I am up to no good....   \n",
       "3  <h1>If thou knows, thou knows.</h1><p><img src...   \n",
       "4  <h1>To guess or not to guess, that is the ques...   \n",
       "\n",
       "                                      summary_detail  \\\n",
       "0  {'type': 'text/html', 'language': None, 'base'...   \n",
       "1  {'type': 'text/html', 'language': None, 'base'...   \n",
       "2  {'type': 'text/html', 'language': None, 'base'...   \n",
       "3  {'type': 'text/html', 'language': None, 'base'...   \n",
       "4  {'type': 'text/html', 'language': None, 'base'...   \n",
       "\n",
       "                                               title  \\\n",
       "0  Everyone Is Either Lydia, Cassie Or Emily From...   \n",
       "1  Someone Pointed Out How Many Times Edward Cull...   \n",
       "2  Only Someone Who Has Read \"Harry Potter And Th...   \n",
       "3  15 Things All Shakespeare Characters Knoweth T...   \n",
       "4  Did Shakespeare Create These Common Phrases — ...   \n",
       "\n",
       "                                        title_detail  \n",
       "0  {'type': 'text/plain', 'language': None, 'base...  \n",
       "1  {'type': 'text/plain', 'language': None, 'base...  \n",
       "2  {'type': 'text/plain', 'language': None, 'base...  \n",
       "3  {'type': 'text/plain', 'language': None, 'base...  \n",
       "4  {'type': 'text/plain', 'language': None, 'base...  "
      ]
     },
     "execution_count": 17,
     "metadata": {},
     "output_type": "execute_result"
    }
   ],
   "source": [
    "df.head()"
   ]
  },
  {
   "cell_type": "code",
   "execution_count": null,
   "metadata": {},
   "outputs": [],
   "source": []
  }
 ],
 "metadata": {
  "anaconda-cloud": {},
  "kernelspec": {
   "display_name": "Python 3",
   "language": "python",
   "name": "python3"
  },
  "language_info": {
   "codemirror_mode": {
    "name": "ipython",
    "version": 3
   },
   "file_extension": ".py",
   "mimetype": "text/x-python",
   "name": "python",
   "nbconvert_exporter": "python",
   "pygments_lexer": "ipython3",
   "version": "3.6.8"
  }
 },
 "nbformat": 4,
 "nbformat_minor": 1
}
