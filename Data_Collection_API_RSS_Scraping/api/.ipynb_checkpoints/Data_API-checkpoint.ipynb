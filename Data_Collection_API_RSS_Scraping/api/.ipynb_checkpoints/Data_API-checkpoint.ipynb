{
 "cells": [
  {
   "cell_type": "markdown",
   "metadata": {
    "collapsed": true
   },
   "source": [
    "## APIs"
   ]
  },
  {
   "cell_type": "markdown",
   "metadata": {
    "collapsed": true
   },
   "source": [
    "Let's start by looking at [OMDb API](https://www.omdbapi.com/).\n",
    "\n",
    "The OMDb API is a free web service to obtain movie information, all content and images on the site are contributed and maintained by users.\n",
    "\n",
    "The Python package [urllib](https://docs.python.org/3/howto/urllib2.html) can be used to fetch resources from the internet.\n",
    "\n",
    "OMDb tells us what kinds of requests we can make. We are going to do a title search. As you can see below, we need an apikey to access the database, we can generate a key easily, and we also have an additional parameter \"&Season=1\" which does not appear in the parameter tables. If you read through the change log, you will see it documented there. \n",
    "\n",
    "Using the urllib and json packages allow us to call an API and store the results locally.\n",
    "\n",
    "URL, Universal Resource Locator, they are the web addresses referencing to web resources.\n",
    "JSON, also known as JavaScript Object Notation, is a data-interchange text-serialization format. JSON is easy to read and write."
   ]
  },
  {
   "cell_type": "code",
   "execution_count": 49,
   "metadata": {},
   "outputs": [],
   "source": [
    "import json\n",
    "import urllib.request\n",
    "import pandas as pd"
   ]
  },
  {
   "cell_type": "code",
   "execution_count": 56,
   "metadata": {},
   "outputs": [],
   "source": [
    "with open(\"./config_secret.json\") as key_file:\n",
    "    key = json.load(key_file)"
   ]
  },
  {
   "cell_type": "code",
   "execution_count": 59,
   "metadata": {},
   "outputs": [],
   "source": [
    "data = json.loads(urllib.request.urlopen('http://www.omdbapi.com/?t=Game%20of%20Thrones&Season=1&apikey=' + str(key['api_key'])).read().decode('utf8'))"
   ]
  },
  {
   "cell_type": "markdown",
   "metadata": {},
   "source": [
    "What should we expect the type to be for the variable data?"
   ]
  },
  {
   "cell_type": "code",
   "execution_count": 39,
   "metadata": {},
   "outputs": [
    {
     "name": "stdout",
     "output_type": "stream",
     "text": [
      "<class 'dict'>\n"
     ]
    }
   ],
   "source": [
    "print(type(data))"
   ]
  },
  {
   "cell_type": "markdown",
   "metadata": {},
   "source": [
    "What do you think the data will look like?"
   ]
  },
  {
   "cell_type": "code",
   "execution_count": 40,
   "metadata": {},
   "outputs": [
    {
     "data": {
      "text/plain": [
       "dict_keys(['Title', 'Season', 'totalSeasons', 'Episodes', 'Response'])"
      ]
     },
     "execution_count": 40,
     "metadata": {},
     "output_type": "execute_result"
    }
   ],
   "source": [
    "data.keys()"
   ]
  },
  {
   "cell_type": "code",
   "execution_count": 41,
   "metadata": {},
   "outputs": [
    {
     "data": {
      "text/plain": [
       "{'Title': 'Game of Thrones',\n",
       " 'Season': '1',\n",
       " 'totalSeasons': '8',\n",
       " 'Episodes': [{'Title': 'Winter Is Coming',\n",
       "   'Released': '2011-04-17',\n",
       "   'Episode': '1',\n",
       "   'imdbRating': '9.0',\n",
       "   'imdbID': 'tt1480055'},\n",
       "  {'Title': 'The Kingsroad',\n",
       "   'Released': '2011-04-24',\n",
       "   'Episode': '2',\n",
       "   'imdbRating': '8.8',\n",
       "   'imdbID': 'tt1668746'},\n",
       "  {'Title': 'Lord Snow',\n",
       "   'Released': '2011-05-01',\n",
       "   'Episode': '3',\n",
       "   'imdbRating': '8.7',\n",
       "   'imdbID': 'tt1829962'},\n",
       "  {'Title': 'Cripples, Bastards, and Broken Things',\n",
       "   'Released': '2011-05-08',\n",
       "   'Episode': '4',\n",
       "   'imdbRating': '8.8',\n",
       "   'imdbID': 'tt1829963'},\n",
       "  {'Title': 'The Wolf and the Lion',\n",
       "   'Released': '2011-05-15',\n",
       "   'Episode': '5',\n",
       "   'imdbRating': '9.1',\n",
       "   'imdbID': 'tt1829964'},\n",
       "  {'Title': 'A Golden Crown',\n",
       "   'Released': '2011-05-22',\n",
       "   'Episode': '6',\n",
       "   'imdbRating': '9.2',\n",
       "   'imdbID': 'tt1837862'},\n",
       "  {'Title': 'You Win or You Die',\n",
       "   'Released': '2011-05-29',\n",
       "   'Episode': '7',\n",
       "   'imdbRating': '9.2',\n",
       "   'imdbID': 'tt1837863'},\n",
       "  {'Title': 'The Pointy End',\n",
       "   'Released': '2011-06-05',\n",
       "   'Episode': '8',\n",
       "   'imdbRating': '9.0',\n",
       "   'imdbID': 'tt1837864'},\n",
       "  {'Title': 'Baelor',\n",
       "   'Released': '2011-06-12',\n",
       "   'Episode': '9',\n",
       "   'imdbRating': '9.6',\n",
       "   'imdbID': 'tt1851398'},\n",
       "  {'Title': 'Fire and Blood',\n",
       "   'Released': '2011-06-19',\n",
       "   'Episode': '10',\n",
       "   'imdbRating': '9.5',\n",
       "   'imdbID': 'tt1851397'}],\n",
       " 'Response': 'True'}"
      ]
     },
     "execution_count": 41,
     "metadata": {},
     "output_type": "execute_result"
    }
   ],
   "source": [
    "data"
   ]
  },
  {
   "cell_type": "markdown",
   "metadata": {},
   "source": [
    "We now have a dictionary object of our data. We can use python to manipulate it in a variety of ways. For example, we can print all the titles of the episodes."
   ]
  },
  {
   "cell_type": "code",
   "execution_count": 42,
   "metadata": {},
   "outputs": [
    {
     "name": "stdout",
     "output_type": "stream",
     "text": [
      "Winter Is Coming 9.0\n",
      "The Kingsroad 8.8\n",
      "Lord Snow 8.7\n",
      "Cripples, Bastards, and Broken Things 8.8\n",
      "The Wolf and the Lion 9.1\n",
      "A Golden Crown 9.2\n",
      "You Win or You Die 9.2\n",
      "The Pointy End 9.0\n",
      "Baelor 9.6\n",
      "Fire and Blood 9.5\n"
     ]
    }
   ],
   "source": [
    "for episode in data['Episodes']:\n",
    "  print(episode['Title'], episode['imdbRating'])"
   ]
  },
  {
   "cell_type": "markdown",
   "metadata": {},
   "source": [
    "We can use pandas to convert the episode information to a dataframe."
   ]
  },
  {
   "cell_type": "code",
   "execution_count": 43,
   "metadata": {},
   "outputs": [],
   "source": [
    "import pandas as pd\n",
    "\n",
    "df = pd.DataFrame.from_dict(data['Episodes'])"
   ]
  },
  {
   "cell_type": "code",
   "execution_count": 44,
   "metadata": {},
   "outputs": [
    {
     "data": {
      "text/html": [
       "<div>\n",
       "<style scoped>\n",
       "    .dataframe tbody tr th:only-of-type {\n",
       "        vertical-align: middle;\n",
       "    }\n",
       "\n",
       "    .dataframe tbody tr th {\n",
       "        vertical-align: top;\n",
       "    }\n",
       "\n",
       "    .dataframe thead th {\n",
       "        text-align: right;\n",
       "    }\n",
       "</style>\n",
       "<table border=\"1\" class=\"dataframe\">\n",
       "  <thead>\n",
       "    <tr style=\"text-align: right;\">\n",
       "      <th></th>\n",
       "      <th>Episode</th>\n",
       "      <th>Released</th>\n",
       "      <th>Title</th>\n",
       "      <th>imdbID</th>\n",
       "      <th>imdbRating</th>\n",
       "    </tr>\n",
       "  </thead>\n",
       "  <tbody>\n",
       "    <tr>\n",
       "      <th>0</th>\n",
       "      <td>1</td>\n",
       "      <td>2011-04-17</td>\n",
       "      <td>Winter Is Coming</td>\n",
       "      <td>tt1480055</td>\n",
       "      <td>9.0</td>\n",
       "    </tr>\n",
       "    <tr>\n",
       "      <th>1</th>\n",
       "      <td>2</td>\n",
       "      <td>2011-04-24</td>\n",
       "      <td>The Kingsroad</td>\n",
       "      <td>tt1668746</td>\n",
       "      <td>8.8</td>\n",
       "    </tr>\n",
       "    <tr>\n",
       "      <th>2</th>\n",
       "      <td>3</td>\n",
       "      <td>2011-05-01</td>\n",
       "      <td>Lord Snow</td>\n",
       "      <td>tt1829962</td>\n",
       "      <td>8.7</td>\n",
       "    </tr>\n",
       "    <tr>\n",
       "      <th>3</th>\n",
       "      <td>4</td>\n",
       "      <td>2011-05-08</td>\n",
       "      <td>Cripples, Bastards, and Broken Things</td>\n",
       "      <td>tt1829963</td>\n",
       "      <td>8.8</td>\n",
       "    </tr>\n",
       "    <tr>\n",
       "      <th>4</th>\n",
       "      <td>5</td>\n",
       "      <td>2011-05-15</td>\n",
       "      <td>The Wolf and the Lion</td>\n",
       "      <td>tt1829964</td>\n",
       "      <td>9.1</td>\n",
       "    </tr>\n",
       "    <tr>\n",
       "      <th>5</th>\n",
       "      <td>6</td>\n",
       "      <td>2011-05-22</td>\n",
       "      <td>A Golden Crown</td>\n",
       "      <td>tt1837862</td>\n",
       "      <td>9.2</td>\n",
       "    </tr>\n",
       "    <tr>\n",
       "      <th>6</th>\n",
       "      <td>7</td>\n",
       "      <td>2011-05-29</td>\n",
       "      <td>You Win or You Die</td>\n",
       "      <td>tt1837863</td>\n",
       "      <td>9.2</td>\n",
       "    </tr>\n",
       "    <tr>\n",
       "      <th>7</th>\n",
       "      <td>8</td>\n",
       "      <td>2011-06-05</td>\n",
       "      <td>The Pointy End</td>\n",
       "      <td>tt1837864</td>\n",
       "      <td>9.0</td>\n",
       "    </tr>\n",
       "    <tr>\n",
       "      <th>8</th>\n",
       "      <td>9</td>\n",
       "      <td>2011-06-12</td>\n",
       "      <td>Baelor</td>\n",
       "      <td>tt1851398</td>\n",
       "      <td>9.6</td>\n",
       "    </tr>\n",
       "    <tr>\n",
       "      <th>9</th>\n",
       "      <td>10</td>\n",
       "      <td>2011-06-19</td>\n",
       "      <td>Fire and Blood</td>\n",
       "      <td>tt1851397</td>\n",
       "      <td>9.5</td>\n",
       "    </tr>\n",
       "  </tbody>\n",
       "</table>\n",
       "</div>"
      ],
      "text/plain": [
       "  Episode    Released                                  Title     imdbID  \\\n",
       "0       1  2011-04-17                       Winter Is Coming  tt1480055   \n",
       "1       2  2011-04-24                          The Kingsroad  tt1668746   \n",
       "2       3  2011-05-01                              Lord Snow  tt1829962   \n",
       "3       4  2011-05-08  Cripples, Bastards, and Broken Things  tt1829963   \n",
       "4       5  2011-05-15                  The Wolf and the Lion  tt1829964   \n",
       "5       6  2011-05-22                         A Golden Crown  tt1837862   \n",
       "6       7  2011-05-29                     You Win or You Die  tt1837863   \n",
       "7       8  2011-06-05                         The Pointy End  tt1837864   \n",
       "8       9  2011-06-12                                 Baelor  tt1851398   \n",
       "9      10  2011-06-19                         Fire and Blood  tt1851397   \n",
       "\n",
       "  imdbRating  \n",
       "0        9.0  \n",
       "1        8.8  \n",
       "2        8.7  \n",
       "3        8.8  \n",
       "4        9.1  \n",
       "5        9.2  \n",
       "6        9.2  \n",
       "7        9.0  \n",
       "8        9.6  \n",
       "9        9.5  "
      ]
     },
     "execution_count": 44,
     "metadata": {},
     "output_type": "execute_result"
    }
   ],
   "source": [
    "df"
   ]
  },
  {
   "cell_type": "markdown",
   "metadata": {},
   "source": [
    "And, we can save our data locally to use later."
   ]
  },
  {
   "cell_type": "code",
   "execution_count": 46,
   "metadata": {},
   "outputs": [],
   "source": [
    "with open('omdb_api_data.json', 'w') as f:\n",
    "    json.dump(data, f)"
   ]
  }
 ],
 "metadata": {
  "anaconda-cloud": {},
  "kernelspec": {
   "display_name": "Python 3",
   "language": "python",
   "name": "python3"
  },
  "language_info": {
   "codemirror_mode": {
    "name": "ipython",
    "version": 3
   },
   "file_extension": ".py",
   "mimetype": "text/x-python",
   "name": "python",
   "nbconvert_exporter": "python",
   "pygments_lexer": "ipython3",
   "version": "3.6.8"
  }
 },
 "nbformat": 4,
 "nbformat_minor": 1
}
